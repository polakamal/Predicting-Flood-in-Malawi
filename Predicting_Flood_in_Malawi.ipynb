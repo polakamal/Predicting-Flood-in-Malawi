{
  "nbformat": 4,
  "nbformat_minor": 0,
  "metadata": {
    "colab": {
      "name": "selected.ipynb",
      "provenance": [],
      "mount_file_id": "18um7gKjzJ7xyTqojmVDHwGwoZgkumWIQ",
      "authorship_tag": "ABX9TyMfpce/9bfy32YjEbey5qi7",
      "include_colab_link": true
    },
    "kernelspec": {
      "name": "python3",
      "display_name": "Python 3"
    }
  },
  "cells": [
    {
      "cell_type": "markdown",
      "metadata": {
        "id": "view-in-github",
        "colab_type": "text"
      },
      "source": [
        "<a href=\"https://colab.research.google.com/github/polakamal/Predicting-Flood-in-Malawi/blob/main/Predicting_Flood_in_Malawi.ipynb\" target=\"_parent\"><img src=\"https://colab.research.google.com/assets/colab-badge.svg\" alt=\"Open In Colab\"/></a>"
      ]
    },
    {
      "cell_type": "code",
      "metadata": {
        "id": "OpiMTLAqt6ZW"
      },
      "source": [
        "import numpy as np\n",
        "import pandas as pd"
      ],
      "execution_count": null,
      "outputs": []
    },
    {
      "cell_type": "code",
      "metadata": {
        "id": "a0E3cWV1u1bE"
      },
      "source": [
        "def rmse(real, predict):\n",
        "    sum=0.0\n",
        "    x=0\n",
        "    for i,_ in real.iteritems():\n",
        "       p = (predict[x])\n",
        "       r = (real[i])\n",
        "       sum =sum+(p-r)**2\n",
        "       x+=1\n",
        "    return (sum/len(predict))**0.5"
      ],
      "execution_count": null,
      "outputs": []
    },
    {
      "cell_type": "code",
      "metadata": {
        "id": "39K3hxzku4Jy",
        "colab": {
          "base_uri": "https://localhost:8080/",
          "height": 400
        },
        "outputId": "cee2ca07-7a4c-40cf-a6e8-037f9b21382c"
      },
      "source": [
        "df = pd.read_csv('/content/drive/My Drive/sel/Train.csv')\n",
        "df.head(3)"
      ],
      "execution_count": null,
      "outputs": [
        {
          "output_type": "execute_result",
          "data": {
            "text/html": [
              "<div>\n",
              "<style scoped>\n",
              "    .dataframe tbody tr th:only-of-type {\n",
              "        vertical-align: middle;\n",
              "    }\n",
              "\n",
              "    .dataframe tbody tr th {\n",
              "        vertical-align: top;\n",
              "    }\n",
              "\n",
              "    .dataframe thead th {\n",
              "        text-align: right;\n",
              "    }\n",
              "</style>\n",
              "<table border=\"1\" class=\"dataframe\">\n",
              "  <thead>\n",
              "    <tr style=\"text-align: right;\">\n",
              "      <th></th>\n",
              "      <th>X</th>\n",
              "      <th>Y</th>\n",
              "      <th>target_2015</th>\n",
              "      <th>elevation</th>\n",
              "      <th>precip 2014-11-16 - 2014-11-23</th>\n",
              "      <th>precip 2014-11-23 - 2014-11-30</th>\n",
              "      <th>precip 2014-11-30 - 2014-12-07</th>\n",
              "      <th>precip 2014-12-07 - 2014-12-14</th>\n",
              "      <th>precip 2014-12-14 - 2014-12-21</th>\n",
              "      <th>precip 2014-12-21 - 2014-12-28</th>\n",
              "      <th>precip 2014-12-28 - 2015-01-04</th>\n",
              "      <th>precip 2015-01-04 - 2015-01-11</th>\n",
              "      <th>precip 2015-01-11 - 2015-01-18</th>\n",
              "      <th>precip 2015-01-18 - 2015-01-25</th>\n",
              "      <th>precip 2015-01-25 - 2015-02-01</th>\n",
              "      <th>precip 2015-02-01 - 2015-02-08</th>\n",
              "      <th>precip 2015-02-08 - 2015-02-15</th>\n",
              "      <th>precip 2015-02-15 - 2015-02-22</th>\n",
              "      <th>precip 2015-02-22 - 2015-03-01</th>\n",
              "      <th>precip 2015-03-01 - 2015-03-08</th>\n",
              "      <th>precip 2015-03-08 - 2015-03-15</th>\n",
              "      <th>precip 2019-01-20 - 2019-01-27</th>\n",
              "      <th>precip 2019-01-27 - 2019-02-03</th>\n",
              "      <th>precip 2019-02-03 - 2019-02-10</th>\n",
              "      <th>precip 2019-02-10 - 2019-02-17</th>\n",
              "      <th>precip 2019-02-17 - 2019-02-24</th>\n",
              "      <th>precip 2019-02-24 - 2019-03-03</th>\n",
              "      <th>precip 2019-03-03 - 2019-03-10</th>\n",
              "      <th>precip 2019-03-10 - 2019-03-17</th>\n",
              "      <th>precip 2019-03-17 - 2019-03-24</th>\n",
              "      <th>precip 2019-03-24 - 2019-03-31</th>\n",
              "      <th>precip 2019-03-31 - 2019-04-07</th>\n",
              "      <th>precip 2019-04-07 - 2019-04-14</th>\n",
              "      <th>precip 2019-04-14 - 2019-04-21</th>\n",
              "      <th>precip 2019-04-21 - 2019-04-28</th>\n",
              "      <th>precip 2019-04-28 - 2019-05-05</th>\n",
              "      <th>precip 2019-05-05 - 2019-05-12</th>\n",
              "      <th>precip 2019-05-12 - 2019-05-19</th>\n",
              "      <th>LC_Type1_mode</th>\n",
              "      <th>Square_ID</th>\n",
              "    </tr>\n",
              "  </thead>\n",
              "  <tbody>\n",
              "    <tr>\n",
              "      <th>0</th>\n",
              "      <td>34.26</td>\n",
              "      <td>-15.91</td>\n",
              "      <td>0.0</td>\n",
              "      <td>887.764222</td>\n",
              "      <td>0.0</td>\n",
              "      <td>0.0</td>\n",
              "      <td>0.0</td>\n",
              "      <td>14.844025</td>\n",
              "      <td>14.552823</td>\n",
              "      <td>12.237766</td>\n",
              "      <td>57.451361</td>\n",
              "      <td>30.127047</td>\n",
              "      <td>30.449468</td>\n",
              "      <td>1.521829</td>\n",
              "      <td>29.389995</td>\n",
              "      <td>32.878318</td>\n",
              "      <td>8.179804</td>\n",
              "      <td>0.963981</td>\n",
              "      <td>16.659097</td>\n",
              "      <td>3.304466</td>\n",
              "      <td>0.0</td>\n",
              "      <td>12.99262</td>\n",
              "      <td>4.582856</td>\n",
              "      <td>35.037532</td>\n",
              "      <td>4.796012</td>\n",
              "      <td>28.083314</td>\n",
              "      <td>0.0</td>\n",
              "      <td>58.362456</td>\n",
              "      <td>18.264692</td>\n",
              "      <td>17.537486</td>\n",
              "      <td>0.896323</td>\n",
              "      <td>1.68</td>\n",
              "      <td>0.0</td>\n",
              "      <td>0.0</td>\n",
              "      <td>0.0</td>\n",
              "      <td>0.0</td>\n",
              "      <td>0.0</td>\n",
              "      <td>0.0</td>\n",
              "      <td>9</td>\n",
              "      <td>4e3c3896-14ce-11ea-bce5-f49634744a41</td>\n",
              "    </tr>\n",
              "    <tr>\n",
              "      <th>1</th>\n",
              "      <td>34.26</td>\n",
              "      <td>-15.90</td>\n",
              "      <td>0.0</td>\n",
              "      <td>743.403912</td>\n",
              "      <td>0.0</td>\n",
              "      <td>0.0</td>\n",
              "      <td>0.0</td>\n",
              "      <td>14.844025</td>\n",
              "      <td>14.552823</td>\n",
              "      <td>12.237766</td>\n",
              "      <td>57.451361</td>\n",
              "      <td>30.127047</td>\n",
              "      <td>30.449468</td>\n",
              "      <td>1.521829</td>\n",
              "      <td>29.389995</td>\n",
              "      <td>32.878318</td>\n",
              "      <td>8.179804</td>\n",
              "      <td>0.963981</td>\n",
              "      <td>16.659097</td>\n",
              "      <td>3.304466</td>\n",
              "      <td>0.0</td>\n",
              "      <td>12.99262</td>\n",
              "      <td>4.582856</td>\n",
              "      <td>35.037532</td>\n",
              "      <td>4.796012</td>\n",
              "      <td>28.083314</td>\n",
              "      <td>0.0</td>\n",
              "      <td>58.362456</td>\n",
              "      <td>18.264692</td>\n",
              "      <td>17.537486</td>\n",
              "      <td>0.896323</td>\n",
              "      <td>1.68</td>\n",
              "      <td>0.0</td>\n",
              "      <td>0.0</td>\n",
              "      <td>0.0</td>\n",
              "      <td>0.0</td>\n",
              "      <td>0.0</td>\n",
              "      <td>0.0</td>\n",
              "      <td>9</td>\n",
              "      <td>4e3c3897-14ce-11ea-bce5-f49634744a41</td>\n",
              "    </tr>\n",
              "    <tr>\n",
              "      <th>2</th>\n",
              "      <td>34.26</td>\n",
              "      <td>-15.89</td>\n",
              "      <td>0.0</td>\n",
              "      <td>565.728343</td>\n",
              "      <td>0.0</td>\n",
              "      <td>0.0</td>\n",
              "      <td>0.0</td>\n",
              "      <td>14.844025</td>\n",
              "      <td>14.552823</td>\n",
              "      <td>12.237766</td>\n",
              "      <td>57.451361</td>\n",
              "      <td>30.127047</td>\n",
              "      <td>30.449468</td>\n",
              "      <td>1.521829</td>\n",
              "      <td>29.389995</td>\n",
              "      <td>32.878318</td>\n",
              "      <td>8.179804</td>\n",
              "      <td>0.963981</td>\n",
              "      <td>16.659097</td>\n",
              "      <td>3.304466</td>\n",
              "      <td>0.0</td>\n",
              "      <td>12.99262</td>\n",
              "      <td>4.582856</td>\n",
              "      <td>35.037532</td>\n",
              "      <td>4.796012</td>\n",
              "      <td>28.083314</td>\n",
              "      <td>0.0</td>\n",
              "      <td>58.362456</td>\n",
              "      <td>18.264692</td>\n",
              "      <td>17.537486</td>\n",
              "      <td>0.896323</td>\n",
              "      <td>1.68</td>\n",
              "      <td>0.0</td>\n",
              "      <td>0.0</td>\n",
              "      <td>0.0</td>\n",
              "      <td>0.0</td>\n",
              "      <td>0.0</td>\n",
              "      <td>0.0</td>\n",
              "      <td>9</td>\n",
              "      <td>4e3c3898-14ce-11ea-bce5-f49634744a41</td>\n",
              "    </tr>\n",
              "  </tbody>\n",
              "</table>\n",
              "</div>"
            ],
            "text/plain": [
              "       X      Y  ...  LC_Type1_mode                             Square_ID\n",
              "0  34.26 -15.91  ...              9  4e3c3896-14ce-11ea-bce5-f49634744a41\n",
              "1  34.26 -15.90  ...              9  4e3c3897-14ce-11ea-bce5-f49634744a41\n",
              "2  34.26 -15.89  ...              9  4e3c3898-14ce-11ea-bce5-f49634744a41\n",
              "\n",
              "[3 rows x 40 columns]"
            ]
          },
          "metadata": {
            "tags": []
          },
          "execution_count": 20
        }
      ]
    },
    {
      "cell_type": "code",
      "metadata": {
        "id": "6tZYARuiu80m"
      },
      "source": [
        "#preprocessing\n",
        "precip_features_2019 = []\n",
        "precip_features_2015 = []\n",
        "common= []\n",
        "for col in df.columns:\n",
        "  if '2019' in col:\n",
        "    precip_features_2019.append(col)\n",
        "  elif 'precip 2014' in col:\n",
        "    precip_features_2015.append(col)\n",
        "  elif 'precip 2015' in col:\n",
        "    precip_features_2015.append(col)\n",
        "  else:\n",
        "      common.append(col)\n",
        "train = df[precip_features_2015 + common]\n",
        "y = train.target_2015\n",
        "x = train.drop(['Square_ID','target_2015'], axis = 1)"
      ],
      "execution_count": null,
      "outputs": []
    },
    {
      "cell_type": "code",
      "metadata": {
        "id": "be2GdZQAvKvq"
      },
      "source": [
        "#preprocessing\n",
        "from sklearn.model_selection import  train_test_split\n",
        "x_train, x_test, y_train, y_test = train_test_split(x,y, test_size=0.2, random_state=42,shuffle=True)"
      ],
      "execution_count": null,
      "outputs": []
    },
    {
      "cell_type": "code",
      "metadata": {
        "id": "mMwqKloCvN6S"
      },
      "source": [
        "#preprocessing\n",
        "from sklearn.preprocessing import StandardScaler\n",
        "sc_x = StandardScaler()\n",
        "x_train=sc_x.fit_transform(x_train)\n",
        "x_test = sc_x.transform(x_test)"
      ],
      "execution_count": null,
      "outputs": []
    },
    {
      "cell_type": "code",
      "metadata": {
        "id": "yBIqjSKAvWE8",
        "colab": {
          "base_uri": "https://localhost:8080/",
          "height": 67
        },
        "outputId": "d1cdef93-a343-4029-d767-e5362010eade"
      },
      "source": [
        "from sklearn.tree import DecisionTreeRegressor\n",
        "clf = DecisionTreeRegressor()\n",
        "clf = clf.fit(x_train,y_train)\n",
        "predict = clf.predict(x_test)\n",
        "clf.score(x_test,y_test)\n",
        "clf.score(x_train,y_train)\n",
        "print(f'train acc:{clf.score(x_train,y_train)*100 :0.2f}','%')\n",
        "print(f'test acc: {clf.score(x_test,y_test)*100 : 0.2f}','%')\n",
        "print( f'rmse: {rmse(y_test ,predict): 0.2f}','%')"
      ],
      "execution_count": null,
      "outputs": [
        {
          "output_type": "stream",
          "text": [
            "train acc:100.00 %\n",
            "test acc:  71.28 %\n",
            "rmse:  0.12 %\n"
          ],
          "name": "stdout"
        }
      ]
    },
    {
      "cell_type": "code",
      "metadata": {
        "id": "Ixiio8DwvZr2",
        "colab": {
          "base_uri": "https://localhost:8080/",
          "height": 67
        },
        "outputId": "cb2dc7cd-8a50-4c1a-ef93-2c18975f40c1"
      },
      "source": [
        "from sklearn.svm import SVR\n",
        "svr = SVR()\n",
        "svr = svr.fit(x_train,y_train)\n",
        "predict = svr.predict(x_test)\n",
        "svr.score(x_test,y_test)\n",
        "svr.score(x_train,y_train)\n",
        "print(f'train acc:{svr.score(x_train,y_train)*100 :0.2f}','%')\n",
        "print(f'test acc: {svr.score(x_test,y_test)*100 : 0.2f}','%')\n",
        "print( f'rmse: {rmse(y_test ,predict): 0.2f}')"
      ],
      "execution_count": null,
      "outputs": [
        {
          "output_type": "stream",
          "text": [
            "train acc:43.71 %\n",
            "test acc:  43.34 %\n",
            "rmse:  0.17\n"
          ],
          "name": "stdout"
        }
      ]
    },
    {
      "cell_type": "code",
      "metadata": {
        "id": "RK5wiOUswbV8",
        "colab": {
          "base_uri": "https://localhost:8080/",
          "height": 67
        },
        "outputId": "c64330b7-430c-4b51-8018-446cd2946927"
      },
      "source": [
        "from sklearn.linear_model import LinearRegression\n",
        "linear_reg = LinearRegression()\n",
        "linear_reg.fit(x_train , y_train)\n",
        "predict = linear_reg.predict(x_test)\n",
        "train_accuracy = linear_reg.score(x_train,y_train)\n",
        "test_accuracy = linear_reg.score(x_train,y_train)\n",
        "print(f'train acc:{train_accuracy*100 :0.2f}','%')\n",
        "print(f'test acc: {test_accuracy*100 : 0.2f}','%')\n",
        "print( f'rmse: {rmse(y_test ,predict): 0.2f}')"
      ],
      "execution_count": null,
      "outputs": [
        {
          "output_type": "stream",
          "text": [
            "train acc:16.61 %\n",
            "test acc:  16.61 %\n",
            "rmse:  0.21\n"
          ],
          "name": "stdout"
        }
      ]
    },
    {
      "cell_type": "code",
      "metadata": {
        "id": "bMl0iTLw93lj",
        "colab": {
          "base_uri": "https://localhost:8080/",
          "height": 67
        },
        "outputId": "fa51b30f-9250-4e08-d232-9e6a86e6034e"
      },
      "source": [
        "from sklearn.linear_model import Lasso \n",
        "lasso = Lasso(alpha=0.0001,random_state=42)\n",
        "lasso.fit(x_train,y_train)\n",
        "predict = lasso.predict(x_test)\n",
        "train_accuracy = lasso.score(x_train,y_train)\n",
        "test_accuracy = lasso.score(x_test,y_test)\n",
        "print(f'train acc:{train_accuracy*100 :0.2f}','%')\n",
        "print(f'test acc: {test_accuracy*100 : 0.2f}','%')\n",
        "print( f'rmse: {rmse(y_test ,predict): 0.2f}')"
      ],
      "execution_count": null,
      "outputs": [
        {
          "output_type": "stream",
          "text": [
            "train acc:16.61 %\n",
            "test acc:  16.95 %\n",
            "rmse:  0.21\n"
          ],
          "name": "stdout"
        }
      ]
    },
    {
      "cell_type": "code",
      "metadata": {
        "id": "6bQe5Of62PDW",
        "colab": {
          "base_uri": "https://localhost:8080/",
          "height": 67
        },
        "outputId": "b9041b37-4622-49ed-d3ed-4316cc63ae18"
      },
      "source": [
        "from sklearn.linear_model import Ridge \n",
        "model = Ridge(alpha=0.1,random_state=42)\n",
        "model.fit(x_train,y_train)\n",
        "train_accuracy = model.score(x_train,y_train)\n",
        "test_accuracy = model.score(x_test,y_test)\n",
        "predict = model.predict(x_test)\n",
        "print(f'train acc:{train_accuracy*100 :0.2f}','%')\n",
        "print(f'test acc: {test_accuracy*100 : 0.2f}','%')\n",
        "print( f'rmse: {rmse(y_test ,predict): 0.2f}')"
      ],
      "execution_count": null,
      "outputs": [
        {
          "output_type": "stream",
          "text": [
            "train acc:16.61 %\n",
            "test acc:  16.92 %\n",
            "rmse:  0.21\n"
          ],
          "name": "stdout"
        }
      ]
    },
    {
      "cell_type": "code",
      "metadata": {
        "id": "sdtiDTYwD1Gk",
        "colab": {
          "base_uri": "https://localhost:8080/",
          "height": 84
        },
        "outputId": "74710fee-c644-428f-86ab-2970bbfc8ef1"
      },
      "source": [
        "#ensemble learning\n",
        "from sklearn.ensemble import RandomForestRegressor\n",
        "RandomForestRegressorModel = RandomForestRegressor(n_estimators=1000,max_depth=15, random_state=33)\n",
        "RandomForestRegressorModel.fit(x_train, y_train)\n",
        "predict =RandomForestRegressorModel.predict(x_test)\n",
        "train_accuracy = RandomForestRegressorModel.score(x_train, y_train)\n",
        "test_accuracy = RandomForestRegressorModel.score(x_test, y_test)\n",
        "feature_number = RandomForestRegressorModel.n_features_\n",
        "print(f'train acc:{train_accuracy*100 :0.2f}','%')\n",
        "print(f'test acc: {test_accuracy*100 : 0.2f}','%')\n",
        "print('Random Forest Regressor No. of features are : ' , RandomForestRegressorModel.n_features_)\n",
        "print( f'rmse: {rmse(y_test ,predict): 0.2f}')"
      ],
      "execution_count": null,
      "outputs": [
        {
          "output_type": "stream",
          "text": [
            "train acc:96.41 %\n",
            "test acc:  83.51 %\n",
            "Random Forest Regressor No. of features are :  21\n",
            "rmse:  0.09\n"
          ],
          "name": "stdout"
        }
      ]
    },
    {
      "cell_type": "code",
      "metadata": {
        "id": "VrTXqPcYFnzC"
      },
      "source": [
        ""
      ],
      "execution_count": null,
      "outputs": []
    }
  ]
}